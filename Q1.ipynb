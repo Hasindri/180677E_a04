{
 "metadata": {
  "language_info": {
   "codemirror_mode": {
    "name": "ipython",
    "version": 3
   },
   "file_extension": ".py",
   "mimetype": "text/x-python",
   "name": "python",
   "nbconvert_exporter": "python",
   "pygments_lexer": "ipython3",
   "version": "3.7.9-final"
  },
  "orig_nbformat": 2,
  "kernelspec": {
   "name": "python3",
   "display_name": "Python 3",
   "language": "python"
  }
 },
 "nbformat": 4,
 "nbformat_minor": 2,
 "cells": [
  {
   "cell_type": "code",
   "execution_count": 1,
   "metadata": {},
   "outputs": [],
   "source": [
    "%matplotlib inline\n",
    "import tensorflow as tf\n",
    "from tensorflow import keras\n",
    "import numpy as np\n",
    "import matplotlib.pyplot as plt\n"
   ]
  },
  {
   "cell_type": "code",
   "execution_count": 2,
   "metadata": {},
   "outputs": [],
   "source": [
    "(x_train, y_train), (x_test, y_test) = keras.datasets.cifar10.load_data()"
   ]
  },
  {
   "cell_type": "code",
   "execution_count": 3,
   "metadata": {},
   "outputs": [
    {
     "output_type": "stream",
     "name": "stdout",
     "text": [
      "x_train:  (50000, 32, 32, 3)\ny_train:  (50000, 1)\n"
     ]
    }
   ],
   "source": [
    "print('x_train: ', x_train.shape)\n",
    "print('y_train: ', y_train.shape)"
   ]
  },
  {
   "cell_type": "code",
   "execution_count": 4,
   "metadata": {},
   "outputs": [
    {
     "output_type": "stream",
     "name": "stdout",
     "text": [
      "Noof classes: 10\nNoof training images: 50000\nNoof test images: 10000\nNoof features: 3072\n"
     ]
    }
   ],
   "source": [
    "K = len(np.unique(y_train)) # Classes\n",
    "Ntr = x_train.shape[0]\n",
    "Nte = x_test.shape[0]\n",
    "Din = 3072 # CIFAR10\n",
    "print('Noof classes:',K)\n",
    "print('Noof training images:',Ntr)\n",
    "print('Noof test images:',Nte)\n",
    "print('Noof features:',Din)\n",
    "# Normalize pixel values\n",
    "x_train, x_test = x_train / 255.0, x_test / 255.0\n",
    "mean_image = np.mean(x_train, axis=0)\n",
    "x_train = x_train - mean_image\n",
    "x_test = x_test - mean_image"
   ]
  },
  {
   "cell_type": "code",
   "execution_count": 5,
   "metadata": {},
   "outputs": [
    {
     "output_type": "stream",
     "name": "stdout",
     "text": [
      "original labels: (50000, 1)\nlabels in class matrix: (50000, 10)\n"
     ]
    }
   ],
   "source": [
    "print('original labels:',y_train.shape)\n",
    "y_train = tf.keras.utils.to_categorical(y_train, num_classes=K)\n",
    "print('labels in class matrix:',y_train.shape)\n",
    "y_test = tf.keras.utils.to_categorical(y_test, num_classes=K)"
   ]
  },
  {
   "cell_type": "code",
   "execution_count": 6,
   "metadata": {},
   "outputs": [
    {
     "output_type": "stream",
     "name": "stdout",
     "text": [
      "x_train: (50000, 3072)\nx_test: (10000, 3072)\n"
     ]
    }
   ],
   "source": [
    "x_train = np.reshape(x_train,(Ntr,Din))\n",
    "x_test = np.reshape(x_test,(Nte,Din))\n",
    "print('x_train:', x_train.shape)\n",
    "print('x_test:', x_test.shape)\n",
    "x_train = x_train.astype('float32')\n",
    "x_test = x_test.astype('float32')"
   ]
  },
  {
   "cell_type": "code",
   "execution_count": 7,
   "metadata": {},
   "outputs": [
    {
     "output_type": "stream",
     "name": "stdout",
     "text": [
      "w1: (3072, 10)\nb1: (10,)\nw1: [[-7.70398178e-06 -4.98834216e-07  5.43238390e-06 ...  8.26696009e-07\n  -8.75256121e-07  7.53961550e-06]\n [-5.99022584e-06 -8.26150179e-06  6.80077966e-06 ...  7.79061661e-06\n  -4.48978642e-06  1.06303332e-05]\n [ 1.15817529e-05  5.16743124e-06  1.40895243e-05 ... -7.53720799e-07\n  -3.40643158e-06  8.63682046e-06]\n ...\n [-8.75218596e-06 -3.19546500e-06  1.18564392e-05 ...  2.55549430e-05\n   1.45175422e-05 -2.33247087e-05]\n [-1.02113018e-05 -1.11160306e-05 -3.55352026e-07 ...  7.83665911e-06\n  -9.96019505e-06 -6.95968344e-06]\n [ 4.47098074e-06 -2.06577823e-06 -1.84518368e-05 ... -8.21667145e-06\n   1.12937018e-05  2.17903812e-06]]\n"
     ]
    }
   ],
   "source": [
    "std=1e-5\n",
    "w1 = std*np.random.randn(Din, K)\n",
    "b1 = np.zeros(K)\n",
    "print(\"w1:\", w1.shape)\n",
    "print(\"b1:\", b1.shape)\n",
    "print('w1:',w1)"
   ]
  },
  {
   "cell_type": "code",
   "execution_count": 8,
   "metadata": {},
   "outputs": [
    {
     "output_type": "stream",
     "name": "stdout",
     "text": [
      "iteration 0 / 300 : loss 1.00002213\n",
      "iteration 10 / 300 : loss 0.87664035\n",
      "iteration 20 / 300 : loss 0.84254261\n",
      "iteration 30 / 300 : loss 0.82361812\n",
      "iteration 40 / 300 : loss 0.81239045\n",
      "iteration 50 / 300 : loss 0.80542749\n",
      "iteration 60 / 300 : loss 0.80090695\n",
      "iteration 70 / 300 : loss 0.79782253\n",
      "iteration 80 / 300 : loss 0.79560615\n",
      "iteration 90 / 300 : loss 0.79393111\n",
      "iteration 100 / 300 : loss 0.79260587\n",
      "iteration 110 / 300 : loss 0.79151578\n",
      "iteration 120 / 300 : loss 0.79059059\n",
      "iteration 130 / 300 : loss 0.78978600\n",
      "iteration 140 / 300 : loss 0.78907324\n",
      "iteration 150 / 300 : loss 0.78843295\n",
      "iteration 160 / 300 : loss 0.78785161\n",
      "iteration 170 / 300 : loss 0.78731944\n",
      "iteration 180 / 300 : loss 0.78682909\n",
      "iteration 190 / 300 : loss 0.78637489\n",
      "iteration 200 / 300 : loss 0.78595231\n",
      "iteration 210 / 300 : loss 0.78555765\n",
      "iteration 220 / 300 : loss 0.78518786\n",
      "iteration 230 / 300 : loss 0.78484033\n",
      "iteration 240 / 300 : loss 0.78451286\n",
      "iteration 250 / 300 : loss 0.78420355\n",
      "iteration 260 / 300 : loss 0.78391073\n",
      "iteration 270 / 300 : loss 0.78363296\n",
      "iteration 280 / 300 : loss 0.78336895\n",
      "iteration 290 / 300 : loss 0.78311758\n"
     ]
    }
   ],
   "source": [
    "batch_size = Ntr\n",
    "iterations = 300\n",
    "lr = 1.4e-2\n",
    "lr_decay=0.999\n",
    "reg =5e-6\n",
    "loss_history = []\n",
    "train_acc_history = []\n",
    "val_acc_history = []\n",
    "seed = 0\n",
    "rng = np.random.default_rng(seed=seed)\n",
    "for t in range(iterations):\n",
    "    indices = np.arange(Ntr)\n",
    "    rng.shuffle(indices)\n",
    "    x=x_train[indices]\n",
    "    y=y_train[indices]\n",
    "\n",
    "    # Forward pass\n",
    "    y_pred=x.dot(w1) + b1\n",
    "    #classes=np.argmax(prediction,axis=1)\n",
    "    #prediction=y_pred(classes)\n",
    "    #classes=np.reshape(classes,(Ntr,1))\n",
    "    #classes=tf.keras.utils.to_categorical(classes, num_classes=K)\n",
    "    \n",
    "    loss=1./batch_size*(np.square(y_pred-y)).sum() + reg * np.sum(w1*w1)\n",
    "    loss_history.append(loss)\n",
    "\n",
    "    if t%10==0:\n",
    "        print('iteration %d / %d : loss %0.8f' % (t,iterations,loss))\n",
    "        \n",
    "    # Backward pass\n",
    "\n",
    "    dy_pred=1./batch_size*2.0*(y_pred-y)\n",
    "    dw1=x.T.dot(dy_pred) + reg * w1\n",
    "    db1=dy_pred.sum(axis=0)\n",
    "    #db1=np.reshape(db1,(K))\n",
    "    w1 -= lr*dw1\n",
    "    b1 -= lr*db1\n",
    "    lr *= lr_decay\n",
    "\n",
    "\n",
    "\n",
    "\n"
   ]
  },
  {
   "cell_type": "code",
   "execution_count": 11,
   "metadata": {},
   "outputs": [
    {
     "output_type": "stream",
     "name": "stderr",
     "text": [
      "Clipping input data to the valid range for imshow with RGB data ([0..1] for floats or [0..255] for integers).\n",
      "Clipping input data to the valid range for imshow with RGB data ([0..1] for floats or [0..255] for integers).\n",
      "Clipping input data to the valid range for imshow with RGB data ([0..1] for floats or [0..255] for integers).\n",
      "Clipping input data to the valid range for imshow with RGB data ([0..1] for floats or [0..255] for integers).\n",
      "Clipping input data to the valid range for imshow with RGB data ([0..1] for floats or [0..255] for integers).\n",
      "Clipping input data to the valid range for imshow with RGB data ([0..1] for floats or [0..255] for integers).\n",
      "Clipping input data to the valid range for imshow with RGB data ([0..1] for floats or [0..255] for integers).\n",
      "Clipping input data to the valid range for imshow with RGB data ([0..1] for floats or [0..255] for integers).\n",
      "Clipping input data to the valid range for imshow with RGB data ([0..1] for floats or [0..255] for integers).\n",
      "Clipping input data to the valid range for imshow with RGB data ([0..1] for floats or [0..255] for integers).\n"
     ]
    },
    {
     "output_type": "display_data",
     "data": {
      "text/plain": "<Figure size 432x288 with 10 Axes>",
      "image/svg+xml": "<?xml version=\"1.0\" encoding=\"utf-8\" standalone=\"no\"?>\r\n<!DOCTYPE svg PUBLIC \"-//W3C//DTD SVG 1.1//EN\"\r\n  \"http://www.w3.org/Graphics/SVG/1.1/DTD/svg11.dtd\">\r\n<!-- Created with matplotlib (https://matplotlib.org/) -->\r\n<svg height=\"210.303178pt\" version=\"1.1\" viewBox=\"0 0 368.925 210.303178\" width=\"368.925pt\" xmlns=\"http://www.w3.org/2000/svg\" xmlns:xlink=\"http://www.w3.org/1999/xlink\">\r\n <metadata>\r\n  <rdf:RDF xmlns:cc=\"http://creativecommons.org/ns#\" xmlns:dc=\"http://purl.org/dc/elements/1.1/\" xmlns:rdf=\"http://www.w3.org/1999/02/22-rdf-syntax-ns#\">\r\n   <cc:Work>\r\n    <dc:type rdf:resource=\"http://purl.org/dc/dcmitype/StillImage\"/>\r\n    <dc:date>2021-03-31T09:02:51.018907</dc:date>\r\n    <dc:format>image/svg+xml</dc:format>\r\n    <dc:creator>\r\n     <cc:Agent>\r\n      <dc:title>Matplotlib v3.3.3, https://matplotlib.org/</dc:title>\r\n     </cc:Agent>\r\n    </dc:creator>\r\n   </cc:Work>\r\n  </rdf:RDF>\r\n </metadata>\r\n <defs>\r\n  <style type=\"text/css\">*{stroke-linecap:butt;stroke-linejoin:round;}</style>\r\n </defs>\r\n <g id=\"figure_1\">\r\n  <g id=\"patch_1\">\r\n   <path d=\"M -0 210.303178 \r\nL 368.925 210.303178 \r\nL 368.925 0 \r\nL -0 0 \r\nz\r\n\" style=\"fill:none;\"/>\r\n  </g>\r\n  <g id=\"axes_1\">\r\n   <g id=\"patch_2\">\r\n    <path d=\"M 26.925 67.821417 \r\nL 84.649138 67.821417 \r\nL 84.649138 10.097279 \r\nL 26.925 10.097279 \r\nz\r\n\" style=\"fill:#ffffff;\"/>\r\n   </g>\r\n   <g clip-path=\"url(#pe0bced471d)\">\r\n    <image height=\"58\" id=\"imaged71bae3d56\" transform=\"scale(1 -1)translate(0 -58)\" width=\"58\" x=\"26.925\" xlink:href=\"data:image/png;base64,\r\niVBORw0KGgoAAAANSUhEUgAAADoAAAA6CAYAAADhu0ooAAAApklEQVR4nO3aQQqEMBAF0Y7M/a+si+huGGaTH6muB65NYbADOqrqrAaO3QtIMZTGUBpDaQylMZTGUBpDaQylMZTGUBpDaQylMZTGUJpOoaPmFbThlp/s7W7xL7Kjw9adW6dB6GQoTbfQla/BX3MkN2MWjpd/InJzJrR1w6eDL0Kh+//ZWnwy2h/4GPWm1SzT4gg4NQk9u4S2eaKG8hhKYyiNoTSG0lyXrQh8RzjXFgAAAABJRU5ErkJggg==\" y=\"-9.821417\"/>\r\n   </g>\r\n   <g id=\"matplotlib.axis_1\">\r\n    <g id=\"xtick_1\">\r\n     <g id=\"line2d_1\">\r\n      <defs>\r\n       <path d=\"M 0 0 \r\nL 0 3.5 \r\n\" id=\"m33e6e2bb3a\" style=\"stroke:#000000;stroke-width:0.8;\"/>\r\n      </defs>\r\n      <g>\r\n       <use style=\"stroke:#000000;stroke-width:0.8;\" x=\"27.82694\" xlink:href=\"#m33e6e2bb3a\" y=\"67.821417\"/>\r\n      </g>\r\n     </g>\r\n     <g id=\"text_1\">\r\n      <!-- 0 -->\r\n      <g transform=\"translate(24.64569 82.419855)scale(0.1 -0.1)\">\r\n       <defs>\r\n        <path d=\"M 31.78125 66.40625 \r\nQ 24.171875 66.40625 20.328125 58.90625 \r\nQ 16.5 51.421875 16.5 36.375 \r\nQ 16.5 21.390625 20.328125 13.890625 \r\nQ 24.171875 6.390625 31.78125 6.390625 \r\nQ 39.453125 6.390625 43.28125 13.890625 \r\nQ 47.125 21.390625 47.125 36.375 \r\nQ 47.125 51.421875 43.28125 58.90625 \r\nQ 39.453125 66.40625 31.78125 66.40625 \r\nz\r\nM 31.78125 74.21875 \r\nQ 44.046875 74.21875 50.515625 64.515625 \r\nQ 56.984375 54.828125 56.984375 36.375 \r\nQ 56.984375 17.96875 50.515625 8.265625 \r\nQ 44.046875 -1.421875 31.78125 -1.421875 \r\nQ 19.53125 -1.421875 13.0625 8.265625 \r\nQ 6.59375 17.96875 6.59375 36.375 \r\nQ 6.59375 54.828125 13.0625 64.515625 \r\nQ 19.53125 74.21875 31.78125 74.21875 \r\nz\r\n\" id=\"DejaVuSans-48\"/>\r\n       </defs>\r\n       <use xlink:href=\"#DejaVuSans-48\"/>\r\n      </g>\r\n     </g>\r\n    </g>\r\n    <g id=\"xtick_2\">\r\n     <g id=\"line2d_2\">\r\n      <g>\r\n       <use style=\"stroke:#000000;stroke-width:0.8;\" x=\"72.923922\" xlink:href=\"#m33e6e2bb3a\" y=\"67.821417\"/>\r\n      </g>\r\n     </g>\r\n     <g id=\"text_2\">\r\n      <!-- 25 -->\r\n      <g transform=\"translate(66.561422 82.419855)scale(0.1 -0.1)\">\r\n       <defs>\r\n        <path d=\"M 19.1875 8.296875 \r\nL 53.609375 8.296875 \r\nL 53.609375 0 \r\nL 7.328125 0 \r\nL 7.328125 8.296875 \r\nQ 12.9375 14.109375 22.625 23.890625 \r\nQ 32.328125 33.6875 34.8125 36.53125 \r\nQ 39.546875 41.84375 41.421875 45.53125 \r\nQ 43.3125 49.21875 43.3125 52.78125 \r\nQ 43.3125 58.59375 39.234375 62.25 \r\nQ 35.15625 65.921875 28.609375 65.921875 \r\nQ 23.96875 65.921875 18.8125 64.3125 \r\nQ 13.671875 62.703125 7.8125 59.421875 \r\nL 7.8125 69.390625 \r\nQ 13.765625 71.78125 18.9375 73 \r\nQ 24.125 74.21875 28.421875 74.21875 \r\nQ 39.75 74.21875 46.484375 68.546875 \r\nQ 53.21875 62.890625 53.21875 53.421875 \r\nQ 53.21875 48.921875 51.53125 44.890625 \r\nQ 49.859375 40.875 45.40625 35.40625 \r\nQ 44.1875 33.984375 37.640625 27.21875 \r\nQ 31.109375 20.453125 19.1875 8.296875 \r\nz\r\n\" id=\"DejaVuSans-50\"/>\r\n        <path d=\"M 10.796875 72.90625 \r\nL 49.515625 72.90625 \r\nL 49.515625 64.59375 \r\nL 19.828125 64.59375 \r\nL 19.828125 46.734375 \r\nQ 21.96875 47.46875 24.109375 47.828125 \r\nQ 26.265625 48.1875 28.421875 48.1875 \r\nQ 40.625 48.1875 47.75 41.5 \r\nQ 54.890625 34.8125 54.890625 23.390625 \r\nQ 54.890625 11.625 47.5625 5.09375 \r\nQ 40.234375 -1.421875 26.90625 -1.421875 \r\nQ 22.3125 -1.421875 17.546875 -0.640625 \r\nQ 12.796875 0.140625 7.71875 1.703125 \r\nL 7.71875 11.625 \r\nQ 12.109375 9.234375 16.796875 8.0625 \r\nQ 21.484375 6.890625 26.703125 6.890625 \r\nQ 35.15625 6.890625 40.078125 11.328125 \r\nQ 45.015625 15.765625 45.015625 23.390625 \r\nQ 45.015625 31 40.078125 35.4375 \r\nQ 35.15625 39.890625 26.703125 39.890625 \r\nQ 22.75 39.890625 18.8125 39.015625 \r\nQ 14.890625 38.140625 10.796875 36.28125 \r\nz\r\n\" id=\"DejaVuSans-53\"/>\r\n       </defs>\r\n       <use xlink:href=\"#DejaVuSans-50\"/>\r\n       <use x=\"63.623047\" xlink:href=\"#DejaVuSans-53\"/>\r\n      </g>\r\n     </g>\r\n    </g>\r\n   </g>\r\n   <g id=\"matplotlib.axis_2\">\r\n    <g id=\"ytick_1\">\r\n     <g id=\"line2d_3\">\r\n      <defs>\r\n       <path d=\"M 0 0 \r\nL -3.5 0 \r\n\" id=\"m4f36edc684\" style=\"stroke:#000000;stroke-width:0.8;\"/>\r\n      </defs>\r\n      <g>\r\n       <use style=\"stroke:#000000;stroke-width:0.8;\" x=\"26.925\" xlink:href=\"#m4f36edc684\" y=\"10.999219\"/>\r\n      </g>\r\n     </g>\r\n     <g id=\"text_3\">\r\n      <!-- 0 -->\r\n      <g transform=\"translate(13.5625 14.798437)scale(0.1 -0.1)\">\r\n       <use xlink:href=\"#DejaVuSans-48\"/>\r\n      </g>\r\n     </g>\r\n    </g>\r\n    <g id=\"ytick_2\">\r\n     <g id=\"line2d_4\">\r\n      <g>\r\n       <use style=\"stroke:#000000;stroke-width:0.8;\" x=\"26.925\" xlink:href=\"#m4f36edc684\" y=\"47.076805\"/>\r\n      </g>\r\n     </g>\r\n     <g id=\"text_4\">\r\n      <!-- 20 -->\r\n      <g transform=\"translate(7.2 50.876024)scale(0.1 -0.1)\">\r\n       <use xlink:href=\"#DejaVuSans-50\"/>\r\n       <use x=\"63.623047\" xlink:href=\"#DejaVuSans-48\"/>\r\n      </g>\r\n     </g>\r\n    </g>\r\n   </g>\r\n   <g id=\"patch_3\">\r\n    <path d=\"M 26.925 67.821417 \r\nL 26.925 10.097279 \r\n\" style=\"fill:none;stroke:#000000;stroke-linecap:square;stroke-linejoin:miter;stroke-width:0.8;\"/>\r\n   </g>\r\n   <g id=\"patch_4\">\r\n    <path d=\"M 84.649138 67.821417 \r\nL 84.649138 10.097279 \r\n\" style=\"fill:none;stroke:#000000;stroke-linecap:square;stroke-linejoin:miter;stroke-width:0.8;\"/>\r\n   </g>\r\n   <g id=\"patch_5\">\r\n    <path d=\"M 26.925 67.821417 \r\nL 84.649138 67.821417 \r\n\" style=\"fill:none;stroke:#000000;stroke-linecap:square;stroke-linejoin:miter;stroke-width:0.8;\"/>\r\n   </g>\r\n   <g id=\"patch_6\">\r\n    <path d=\"M 26.925 10.097279 \r\nL 84.649138 10.097279 \r\n\" style=\"fill:none;stroke:#000000;stroke-linecap:square;stroke-linejoin:miter;stroke-width:0.8;\"/>\r\n   </g>\r\n  </g>\r\n  <g id=\"axes_2\">\r\n   <g id=\"patch_7\">\r\n    <path d=\"M 96.193966 67.821417 \r\nL 153.918103 67.821417 \r\nL 153.918103 10.097279 \r\nL 96.193966 10.097279 \r\nz\r\n\" style=\"fill:#ffffff;\"/>\r\n   </g>\r\n   <g clip-path=\"url(#p517c46d54e)\">\r\n    <image height=\"58\" id=\"image21fb0cd98e\" transform=\"scale(1 -1)translate(0 -58)\" width=\"58\" x=\"96.193966\" xlink:href=\"data:image/png;base64,\r\niVBORw0KGgoAAAANSUhEUgAAADoAAAA6CAYAAADhu0ooAAABkUlEQVR4nO2a0bKDIAxEF8f//+XcB0WhAgYC6k3Yh06tATmELOrUASAY0PL2AJ7SBNUm5aDu+KYcFPCwawCt2H8dVheQkkbSHc/A0t1Y1YP69aoe1OsAJVJYn4Hn2Muodk1QbdpBNRpRrMUCJOAzaoB1AUxwYlFPud8IGXFd+h6oA6JH5PD3FtH+4dBQoqOf1X8H1eN6n8sokIdMHXMlzihaOnhBgoye1dQ6y09qrQmuBxJZSFexM5ofcu6MJM+8tjmHzsXeTt+1s3T3VG0jd5e+zyzXkYWuS0f3FF22B2SuXf5sKboxo5uIFZWKaanBa5sa9394Hz1XQL3CinRw7ILaVOW6ZXmAsZtNDMhfISzQlMW8dZMQTyd/FEeN9gUYkdX7Gk1HnbERaCmYp56QdSMpJet8Uy8YTn9JTCs91UnXleVEOmVjpnzQ9vI7WFmGeijruk3Pb5FSrUu3iLk2fdRxH60Vofe7ilIPl8Rp/UvDJ1+ljJAZULnn/BOZyegE1aYJqk0TVJsmqDZNUG0yA/oHpctLc4zY79IAAAAASUVORK5CYII=\" y=\"-9.821417\"/>\r\n   </g>\r\n   <g id=\"matplotlib.axis_3\">\r\n    <g id=\"xtick_3\">\r\n     <g id=\"line2d_5\">\r\n      <g>\r\n       <use style=\"stroke:#000000;stroke-width:0.8;\" x=\"97.095905\" xlink:href=\"#m33e6e2bb3a\" y=\"67.821417\"/>\r\n      </g>\r\n     </g>\r\n     <g id=\"text_5\">\r\n      <!-- 0 -->\r\n      <g transform=\"translate(93.914655 82.419855)scale(0.1 -0.1)\">\r\n       <use xlink:href=\"#DejaVuSans-48\"/>\r\n      </g>\r\n     </g>\r\n    </g>\r\n    <g id=\"xtick_4\">\r\n     <g id=\"line2d_6\">\r\n      <g>\r\n       <use style=\"stroke:#000000;stroke-width:0.8;\" x=\"142.192888\" xlink:href=\"#m33e6e2bb3a\" y=\"67.821417\"/>\r\n      </g>\r\n     </g>\r\n     <g id=\"text_6\">\r\n      <!-- 25 -->\r\n      <g transform=\"translate(135.830388 82.419855)scale(0.1 -0.1)\">\r\n       <use xlink:href=\"#DejaVuSans-50\"/>\r\n       <use x=\"63.623047\" xlink:href=\"#DejaVuSans-53\"/>\r\n      </g>\r\n     </g>\r\n    </g>\r\n   </g>\r\n   <g id=\"matplotlib.axis_4\">\r\n    <g id=\"ytick_3\">\r\n     <g id=\"line2d_7\">\r\n      <g>\r\n       <use style=\"stroke:#000000;stroke-width:0.8;\" x=\"96.193966\" xlink:href=\"#m4f36edc684\" y=\"10.999219\"/>\r\n      </g>\r\n     </g>\r\n     <g id=\"text_7\">\r\n      <!-- 0 -->\r\n      <g transform=\"translate(82.831466 14.798437)scale(0.1 -0.1)\">\r\n       <use xlink:href=\"#DejaVuSans-48\"/>\r\n      </g>\r\n     </g>\r\n    </g>\r\n    <g id=\"ytick_4\">\r\n     <g id=\"line2d_8\">\r\n      <g>\r\n       <use style=\"stroke:#000000;stroke-width:0.8;\" x=\"96.193966\" xlink:href=\"#m4f36edc684\" y=\"47.076805\"/>\r\n      </g>\r\n     </g>\r\n     <g id=\"text_8\">\r\n      <!-- 20 -->\r\n      <g transform=\"translate(76.468966 50.876024)scale(0.1 -0.1)\">\r\n       <use xlink:href=\"#DejaVuSans-50\"/>\r\n       <use x=\"63.623047\" xlink:href=\"#DejaVuSans-48\"/>\r\n      </g>\r\n     </g>\r\n    </g>\r\n   </g>\r\n   <g id=\"patch_8\">\r\n    <path d=\"M 96.193966 67.821417 \r\nL 96.193966 10.097279 \r\n\" style=\"fill:none;stroke:#000000;stroke-linecap:square;stroke-linejoin:miter;stroke-width:0.8;\"/>\r\n   </g>\r\n   <g id=\"patch_9\">\r\n    <path d=\"M 153.918103 67.821417 \r\nL 153.918103 10.097279 \r\n\" style=\"fill:none;stroke:#000000;stroke-linecap:square;stroke-linejoin:miter;stroke-width:0.8;\"/>\r\n   </g>\r\n   <g id=\"patch_10\">\r\n    <path d=\"M 96.193966 67.821417 \r\nL 153.918103 67.821417 \r\n\" style=\"fill:none;stroke:#000000;stroke-linecap:square;stroke-linejoin:miter;stroke-width:0.8;\"/>\r\n   </g>\r\n   <g id=\"patch_11\">\r\n    <path d=\"M 96.193966 10.097279 \r\nL 153.918103 10.097279 \r\n\" style=\"fill:none;stroke:#000000;stroke-linecap:square;stroke-linejoin:miter;stroke-width:0.8;\"/>\r\n   </g>\r\n  </g>\r\n  <g id=\"axes_3\">\r\n   <g id=\"patch_12\">\r\n    <path d=\"M 165.462931 67.821417 \r\nL 223.187069 67.821417 \r\nL 223.187069 10.097279 \r\nL 165.462931 10.097279 \r\nz\r\n\" style=\"fill:#ffffff;\"/>\r\n   </g>\r\n   <g clip-path=\"url(#pd2e98e1ae0)\">\r\n    <image height=\"58\" id=\"image180bd54be7\" transform=\"scale(1 -1)translate(0 -58)\" width=\"58\" x=\"165.462931\" xlink:href=\"data:image/png;base64,\r\niVBORw0KGgoAAAANSUhEUgAAADoAAAA6CAYAAADhu0ooAAAAe0lEQVR4nO3aIQ7AMAzF0J/d/84bH4sqrY1n44A+EpJWkjs/6Nr9gK8SSksoLaG0hNISSksoLaG0hNISSksoLaG0hNISSkvo8VVvfC60eQOcC20mlNYcaHP5vJsDTZawFf8wsBJKSygtobSE0hJKSygtobSE0hJKSyitB4h7A3Phn7NJAAAAAElFTkSuQmCC\" y=\"-9.821417\"/>\r\n   </g>\r\n   <g id=\"matplotlib.axis_5\">\r\n    <g id=\"xtick_5\">\r\n     <g id=\"line2d_9\">\r\n      <g>\r\n       <use style=\"stroke:#000000;stroke-width:0.8;\" x=\"166.364871\" xlink:href=\"#m33e6e2bb3a\" y=\"67.821417\"/>\r\n      </g>\r\n     </g>\r\n     <g id=\"text_9\">\r\n      <!-- 0 -->\r\n      <g transform=\"translate(163.183621 82.419855)scale(0.1 -0.1)\">\r\n       <use xlink:href=\"#DejaVuSans-48\"/>\r\n      </g>\r\n     </g>\r\n    </g>\r\n    <g id=\"xtick_6\">\r\n     <g id=\"line2d_10\">\r\n      <g>\r\n       <use style=\"stroke:#000000;stroke-width:0.8;\" x=\"211.461853\" xlink:href=\"#m33e6e2bb3a\" y=\"67.821417\"/>\r\n      </g>\r\n     </g>\r\n     <g id=\"text_10\">\r\n      <!-- 25 -->\r\n      <g transform=\"translate(205.099353 82.419855)scale(0.1 -0.1)\">\r\n       <use xlink:href=\"#DejaVuSans-50\"/>\r\n       <use x=\"63.623047\" xlink:href=\"#DejaVuSans-53\"/>\r\n      </g>\r\n     </g>\r\n    </g>\r\n   </g>\r\n   <g id=\"matplotlib.axis_6\">\r\n    <g id=\"ytick_5\">\r\n     <g id=\"line2d_11\">\r\n      <g>\r\n       <use style=\"stroke:#000000;stroke-width:0.8;\" x=\"165.462931\" xlink:href=\"#m4f36edc684\" y=\"10.999219\"/>\r\n      </g>\r\n     </g>\r\n     <g id=\"text_11\">\r\n      <!-- 0 -->\r\n      <g transform=\"translate(152.100431 14.798437)scale(0.1 -0.1)\">\r\n       <use xlink:href=\"#DejaVuSans-48\"/>\r\n      </g>\r\n     </g>\r\n    </g>\r\n    <g id=\"ytick_6\">\r\n     <g id=\"line2d_12\">\r\n      <g>\r\n       <use style=\"stroke:#000000;stroke-width:0.8;\" x=\"165.462931\" xlink:href=\"#m4f36edc684\" y=\"47.076805\"/>\r\n      </g>\r\n     </g>\r\n     <g id=\"text_12\">\r\n      <!-- 20 -->\r\n      <g transform=\"translate(145.737931 50.876024)scale(0.1 -0.1)\">\r\n       <use xlink:href=\"#DejaVuSans-50\"/>\r\n       <use x=\"63.623047\" xlink:href=\"#DejaVuSans-48\"/>\r\n      </g>\r\n     </g>\r\n    </g>\r\n   </g>\r\n   <g id=\"patch_13\">\r\n    <path d=\"M 165.462931 67.821417 \r\nL 165.462931 10.097279 \r\n\" style=\"fill:none;stroke:#000000;stroke-linecap:square;stroke-linejoin:miter;stroke-width:0.8;\"/>\r\n   </g>\r\n   <g id=\"patch_14\">\r\n    <path d=\"M 223.187069 67.821417 \r\nL 223.187069 10.097279 \r\n\" style=\"fill:none;stroke:#000000;stroke-linecap:square;stroke-linejoin:miter;stroke-width:0.8;\"/>\r\n   </g>\r\n   <g id=\"patch_15\">\r\n    <path d=\"M 165.462931 67.821417 \r\nL 223.187069 67.821417 \r\n\" style=\"fill:none;stroke:#000000;stroke-linecap:square;stroke-linejoin:miter;stroke-width:0.8;\"/>\r\n   </g>\r\n   <g id=\"patch_16\">\r\n    <path d=\"M 165.462931 10.097279 \r\nL 223.187069 10.097279 \r\n\" style=\"fill:none;stroke:#000000;stroke-linecap:square;stroke-linejoin:miter;stroke-width:0.8;\"/>\r\n   </g>\r\n  </g>\r\n  <g id=\"axes_4\">\r\n   <g id=\"patch_17\">\r\n    <path d=\"M 234.731897 67.821417 \r\nL 292.456034 67.821417 \r\nL 292.456034 10.097279 \r\nL 234.731897 10.097279 \r\nz\r\n\" style=\"fill:#ffffff;\"/>\r\n   </g>\r\n   <g clip-path=\"url(#p75113a0134)\">\r\n    <image height=\"58\" id=\"image44074c5397\" transform=\"scale(1 -1)translate(0 -58)\" width=\"58\" x=\"234.731897\" xlink:href=\"data:image/png;base64,\r\niVBORw0KGgoAAAANSUhEUgAAADoAAAA6CAYAAADhu0ooAAAAb0lEQVR4nO3asQ2AMBAEQZv+e4YOCBAyYj1Twa8u/TnGOMcGjq8PWEVojdAaoTVCa4TWCK0RWiO0RmiN0BqhNUJrhNYIrRFaI7RGaI3QGqE1j0Ln21csYNE7f3w1s2iN0BqhNUJrhNYIrRFas03oBR07AnNM3bz8AAAAAElFTkSuQmCC\" y=\"-9.821417\"/>\r\n   </g>\r\n   <g id=\"matplotlib.axis_7\">\r\n    <g id=\"xtick_7\">\r\n     <g id=\"line2d_13\">\r\n      <g>\r\n       <use style=\"stroke:#000000;stroke-width:0.8;\" x=\"235.633836\" xlink:href=\"#m33e6e2bb3a\" y=\"67.821417\"/>\r\n      </g>\r\n     </g>\r\n     <g id=\"text_13\">\r\n      <!-- 0 -->\r\n      <g transform=\"translate(232.452586 82.419855)scale(0.1 -0.1)\">\r\n       <use xlink:href=\"#DejaVuSans-48\"/>\r\n      </g>\r\n     </g>\r\n    </g>\r\n    <g id=\"xtick_8\">\r\n     <g id=\"line2d_14\">\r\n      <g>\r\n       <use style=\"stroke:#000000;stroke-width:0.8;\" x=\"280.730819\" xlink:href=\"#m33e6e2bb3a\" y=\"67.821417\"/>\r\n      </g>\r\n     </g>\r\n     <g id=\"text_14\">\r\n      <!-- 25 -->\r\n      <g transform=\"translate(274.368319 82.419855)scale(0.1 -0.1)\">\r\n       <use xlink:href=\"#DejaVuSans-50\"/>\r\n       <use x=\"63.623047\" xlink:href=\"#DejaVuSans-53\"/>\r\n      </g>\r\n     </g>\r\n    </g>\r\n   </g>\r\n   <g id=\"matplotlib.axis_8\">\r\n    <g id=\"ytick_7\">\r\n     <g id=\"line2d_15\">\r\n      <g>\r\n       <use style=\"stroke:#000000;stroke-width:0.8;\" x=\"234.731897\" xlink:href=\"#m4f36edc684\" y=\"10.999219\"/>\r\n      </g>\r\n     </g>\r\n     <g id=\"text_15\">\r\n      <!-- 0 -->\r\n      <g transform=\"translate(221.369397 14.798437)scale(0.1 -0.1)\">\r\n       <use xlink:href=\"#DejaVuSans-48\"/>\r\n      </g>\r\n     </g>\r\n    </g>\r\n    <g id=\"ytick_8\">\r\n     <g id=\"line2d_16\">\r\n      <g>\r\n       <use style=\"stroke:#000000;stroke-width:0.8;\" x=\"234.731897\" xlink:href=\"#m4f36edc684\" y=\"47.076805\"/>\r\n      </g>\r\n     </g>\r\n     <g id=\"text_16\">\r\n      <!-- 20 -->\r\n      <g transform=\"translate(215.006897 50.876024)scale(0.1 -0.1)\">\r\n       <use xlink:href=\"#DejaVuSans-50\"/>\r\n       <use x=\"63.623047\" xlink:href=\"#DejaVuSans-48\"/>\r\n      </g>\r\n     </g>\r\n    </g>\r\n   </g>\r\n   <g id=\"patch_18\">\r\n    <path d=\"M 234.731897 67.821417 \r\nL 234.731897 10.097279 \r\n\" style=\"fill:none;stroke:#000000;stroke-linecap:square;stroke-linejoin:miter;stroke-width:0.8;\"/>\r\n   </g>\r\n   <g id=\"patch_19\">\r\n    <path d=\"M 292.456034 67.821417 \r\nL 292.456034 10.097279 \r\n\" style=\"fill:none;stroke:#000000;stroke-linecap:square;stroke-linejoin:miter;stroke-width:0.8;\"/>\r\n   </g>\r\n   <g id=\"patch_20\">\r\n    <path d=\"M 234.731897 67.821417 \r\nL 292.456034 67.821417 \r\n\" style=\"fill:none;stroke:#000000;stroke-linecap:square;stroke-linejoin:miter;stroke-width:0.8;\"/>\r\n   </g>\r\n   <g id=\"patch_21\">\r\n    <path d=\"M 234.731897 10.097279 \r\nL 292.456034 10.097279 \r\n\" style=\"fill:none;stroke:#000000;stroke-linecap:square;stroke-linejoin:miter;stroke-width:0.8;\"/>\r\n   </g>\r\n  </g>\r\n  <g id=\"axes_5\">\r\n   <g id=\"patch_22\">\r\n    <path d=\"M 304.000862 67.821417 \r\nL 361.725 67.821417 \r\nL 361.725 10.097279 \r\nL 304.000862 10.097279 \r\nz\r\n\" style=\"fill:#ffffff;\"/>\r\n   </g>\r\n   <g clip-path=\"url(#pab6a9798e5)\">\r\n    <image height=\"58\" id=\"image734c10d7e8\" transform=\"scale(1 -1)translate(0 -58)\" width=\"58\" x=\"304.000862\" xlink:href=\"data:image/png;base64,\r\niVBORw0KGgoAAAANSUhEUgAAADoAAAA6CAYAAADhu0ooAAAAlklEQVR4nO3VwQqAIBAA0TX6/1+2U+DNYLOWcd6pQ4bDirWI6LGB4+8NfOVMrW7Dc/FzkZto8bhR/uj2WBvc5q88/cyabRY71t9cRi9NJSN3Gc0UmORt3UQLRUZs9B81lMZQGkNpDKUxlMZQGkNpDKUxlMZQGkNpDKUxlMZQGkNpDKUxlMZQGkNpDKUxlMZQGkNpDKW5ADE2CXL9ZY+3AAAAAElFTkSuQmCC\" y=\"-9.821417\"/>\r\n   </g>\r\n   <g id=\"matplotlib.axis_9\">\r\n    <g id=\"xtick_9\">\r\n     <g id=\"line2d_17\">\r\n      <g>\r\n       <use style=\"stroke:#000000;stroke-width:0.8;\" x=\"304.902802\" xlink:href=\"#m33e6e2bb3a\" y=\"67.821417\"/>\r\n      </g>\r\n     </g>\r\n     <g id=\"text_17\">\r\n      <!-- 0 -->\r\n      <g transform=\"translate(301.721552 82.419855)scale(0.1 -0.1)\">\r\n       <use xlink:href=\"#DejaVuSans-48\"/>\r\n      </g>\r\n     </g>\r\n    </g>\r\n    <g id=\"xtick_10\">\r\n     <g id=\"line2d_18\">\r\n      <g>\r\n       <use style=\"stroke:#000000;stroke-width:0.8;\" x=\"349.999784\" xlink:href=\"#m33e6e2bb3a\" y=\"67.821417\"/>\r\n      </g>\r\n     </g>\r\n     <g id=\"text_18\">\r\n      <!-- 25 -->\r\n      <g transform=\"translate(343.637284 82.419855)scale(0.1 -0.1)\">\r\n       <use xlink:href=\"#DejaVuSans-50\"/>\r\n       <use x=\"63.623047\" xlink:href=\"#DejaVuSans-53\"/>\r\n      </g>\r\n     </g>\r\n    </g>\r\n   </g>\r\n   <g id=\"matplotlib.axis_10\">\r\n    <g id=\"ytick_9\">\r\n     <g id=\"line2d_19\">\r\n      <g>\r\n       <use style=\"stroke:#000000;stroke-width:0.8;\" x=\"304.000862\" xlink:href=\"#m4f36edc684\" y=\"10.999219\"/>\r\n      </g>\r\n     </g>\r\n     <g id=\"text_19\">\r\n      <!-- 0 -->\r\n      <g transform=\"translate(290.638362 14.798437)scale(0.1 -0.1)\">\r\n       <use xlink:href=\"#DejaVuSans-48\"/>\r\n      </g>\r\n     </g>\r\n    </g>\r\n    <g id=\"ytick_10\">\r\n     <g id=\"line2d_20\">\r\n      <g>\r\n       <use style=\"stroke:#000000;stroke-width:0.8;\" x=\"304.000862\" xlink:href=\"#m4f36edc684\" y=\"47.076805\"/>\r\n      </g>\r\n     </g>\r\n     <g id=\"text_20\">\r\n      <!-- 20 -->\r\n      <g transform=\"translate(284.275862 50.876024)scale(0.1 -0.1)\">\r\n       <use xlink:href=\"#DejaVuSans-50\"/>\r\n       <use x=\"63.623047\" xlink:href=\"#DejaVuSans-48\"/>\r\n      </g>\r\n     </g>\r\n    </g>\r\n   </g>\r\n   <g id=\"patch_23\">\r\n    <path d=\"M 304.000862 67.821417 \r\nL 304.000862 10.097279 \r\n\" style=\"fill:none;stroke:#000000;stroke-linecap:square;stroke-linejoin:miter;stroke-width:0.8;\"/>\r\n   </g>\r\n   <g id=\"patch_24\">\r\n    <path d=\"M 361.725 67.821417 \r\nL 361.725 10.097279 \r\n\" style=\"fill:none;stroke:#000000;stroke-linecap:square;stroke-linejoin:miter;stroke-width:0.8;\"/>\r\n   </g>\r\n   <g id=\"patch_25\">\r\n    <path d=\"M 304.000862 67.821417 \r\nL 361.725 67.821417 \r\n\" style=\"fill:none;stroke:#000000;stroke-linecap:square;stroke-linejoin:miter;stroke-width:0.8;\"/>\r\n   </g>\r\n   <g id=\"patch_26\">\r\n    <path d=\"M 304.000862 10.097279 \r\nL 361.725 10.097279 \r\n\" style=\"fill:none;stroke:#000000;stroke-linecap:square;stroke-linejoin:miter;stroke-width:0.8;\"/>\r\n   </g>\r\n  </g>\r\n  <g id=\"axes_6\">\r\n   <g id=\"patch_27\">\r\n    <path d=\"M 26.925 186.425053 \r\nL 84.649138 186.425053 \r\nL 84.649138 128.700915 \r\nL 26.925 128.700915 \r\nz\r\n\" style=\"fill:#ffffff;\"/>\r\n   </g>\r\n   <g clip-path=\"url(#p79951cafa1)\">\r\n    <image height=\"58\" id=\"imagef2b6d5b11b\" transform=\"scale(1 -1)translate(0 -58)\" width=\"58\" x=\"26.925\" xlink:href=\"data:image/png;base64,\r\niVBORw0KGgoAAAANSUhEUgAAADoAAAA6CAYAAADhu0ooAAAA4ElEQVR4nO2Y2w5AMBBEt+L/f5kXTWgQl53tGnMSD4LoMVu9FDOb7AcMvRsQhUTZkCgbEmVDomxIlA2JsiFRNiTKhkTZkCgbEmUjWLQsRzzFtIEdCT7lJKL4okoiikeibEiUDYmyIVE2JMqGRNn4jeiIfsF6pdkuxs6ueQNN9KpkPUcuv90T3WvsnbTq894JuyZ6lEibVntfK4UoY7fNsSdlt1fOqL7qXrq1oWfiRzLIH5Jb6UaU3xtc++gVuV4fADq8TLYV65lymp161LBSSTMF/PTMKBOpRD8xvGRHomzMixcbbw9uok8AAAAASUVORK5CYII=\" y=\"-128.425053\"/>\r\n   </g>\r\n   <g id=\"matplotlib.axis_11\">\r\n    <g id=\"xtick_11\">\r\n     <g id=\"line2d_21\">\r\n      <g>\r\n       <use style=\"stroke:#000000;stroke-width:0.8;\" x=\"27.82694\" xlink:href=\"#m33e6e2bb3a\" y=\"186.425053\"/>\r\n      </g>\r\n     </g>\r\n     <g id=\"text_21\">\r\n      <!-- 0 -->\r\n      <g transform=\"translate(24.64569 201.023491)scale(0.1 -0.1)\">\r\n       <use xlink:href=\"#DejaVuSans-48\"/>\r\n      </g>\r\n     </g>\r\n    </g>\r\n    <g id=\"xtick_12\">\r\n     <g id=\"line2d_22\">\r\n      <g>\r\n       <use style=\"stroke:#000000;stroke-width:0.8;\" x=\"72.923922\" xlink:href=\"#m33e6e2bb3a\" y=\"186.425053\"/>\r\n      </g>\r\n     </g>\r\n     <g id=\"text_22\">\r\n      <!-- 25 -->\r\n      <g transform=\"translate(66.561422 201.023491)scale(0.1 -0.1)\">\r\n       <use xlink:href=\"#DejaVuSans-50\"/>\r\n       <use x=\"63.623047\" xlink:href=\"#DejaVuSans-53\"/>\r\n      </g>\r\n     </g>\r\n    </g>\r\n   </g>\r\n   <g id=\"matplotlib.axis_12\">\r\n    <g id=\"ytick_11\">\r\n     <g id=\"line2d_23\">\r\n      <g>\r\n       <use style=\"stroke:#000000;stroke-width:0.8;\" x=\"26.925\" xlink:href=\"#m4f36edc684\" y=\"129.602855\"/>\r\n      </g>\r\n     </g>\r\n     <g id=\"text_23\">\r\n      <!-- 0 -->\r\n      <g transform=\"translate(13.5625 133.402074)scale(0.1 -0.1)\">\r\n       <use xlink:href=\"#DejaVuSans-48\"/>\r\n      </g>\r\n     </g>\r\n    </g>\r\n    <g id=\"ytick_12\">\r\n     <g id=\"line2d_24\">\r\n      <g>\r\n       <use style=\"stroke:#000000;stroke-width:0.8;\" x=\"26.925\" xlink:href=\"#m4f36edc684\" y=\"165.680441\"/>\r\n      </g>\r\n     </g>\r\n     <g id=\"text_24\">\r\n      <!-- 20 -->\r\n      <g transform=\"translate(7.2 169.47966)scale(0.1 -0.1)\">\r\n       <use xlink:href=\"#DejaVuSans-50\"/>\r\n       <use x=\"63.623047\" xlink:href=\"#DejaVuSans-48\"/>\r\n      </g>\r\n     </g>\r\n    </g>\r\n   </g>\r\n   <g id=\"patch_28\">\r\n    <path d=\"M 26.925 186.425053 \r\nL 26.925 128.700915 \r\n\" style=\"fill:none;stroke:#000000;stroke-linecap:square;stroke-linejoin:miter;stroke-width:0.8;\"/>\r\n   </g>\r\n   <g id=\"patch_29\">\r\n    <path d=\"M 84.649138 186.425053 \r\nL 84.649138 128.700915 \r\n\" style=\"fill:none;stroke:#000000;stroke-linecap:square;stroke-linejoin:miter;stroke-width:0.8;\"/>\r\n   </g>\r\n   <g id=\"patch_30\">\r\n    <path d=\"M 26.925 186.425053 \r\nL 84.649138 186.425053 \r\n\" style=\"fill:none;stroke:#000000;stroke-linecap:square;stroke-linejoin:miter;stroke-width:0.8;\"/>\r\n   </g>\r\n   <g id=\"patch_31\">\r\n    <path d=\"M 26.925 128.700915 \r\nL 84.649138 128.700915 \r\n\" style=\"fill:none;stroke:#000000;stroke-linecap:square;stroke-linejoin:miter;stroke-width:0.8;\"/>\r\n   </g>\r\n  </g>\r\n  <g id=\"axes_7\">\r\n   <g id=\"patch_32\">\r\n    <path d=\"M 96.193966 186.425053 \r\nL 153.918103 186.425053 \r\nL 153.918103 128.700915 \r\nL 96.193966 128.700915 \r\nz\r\n\" style=\"fill:#ffffff;\"/>\r\n   </g>\r\n   <g clip-path=\"url(#p1ec4876ec0)\">\r\n    <image height=\"58\" id=\"imagea1c04c3531\" transform=\"scale(1 -1)translate(0 -58)\" width=\"58\" x=\"96.193966\" xlink:href=\"data:image/png;base64,\r\niVBORw0KGgoAAAANSUhEUgAAADoAAAA6CAYAAADhu0ooAAABJElEQVR4nO2Z0QrDIAxFo+z/f9k9lTmx0Oi9MaQ5MPbQTXO4NVhbRKTJC6inC7AiRaORotFI0WikaDRSNBopGo0UjUaKRuOsaLGb6pxoGb4NpuOeGT0VIZ9ccRPVpEVOlie6UjhRtlJG3xmSJPuBj6gtdPx9E0rnqPPZgJTuM7tmBD7RnlFE25yAqWKb0W5CoxgwcZyotqgm/2J36YFkO1HDBTMKGrzm4m4YHL2n60RJVc2GvevCT/+vpoASNbzrV9kXZUqC0hRBiK4UY9SAfpOhmpGm6EMNCrczugRmt/Lx7tuuRIGVHJeaU91WJuJ0C8jA7ab+YrdAQlfmPqZpIa4irqij5c9bo44kRbw3IyApGo0UjUaKRiNFo5Gi0UjRaLxG9AujyiV7VxZv+gAAAABJRU5ErkJggg==\" y=\"-128.425053\"/>\r\n   </g>\r\n   <g id=\"matplotlib.axis_13\">\r\n    <g id=\"xtick_13\">\r\n     <g id=\"line2d_25\">\r\n      <g>\r\n       <use style=\"stroke:#000000;stroke-width:0.8;\" x=\"97.095905\" xlink:href=\"#m33e6e2bb3a\" y=\"186.425053\"/>\r\n      </g>\r\n     </g>\r\n     <g id=\"text_25\">\r\n      <!-- 0 -->\r\n      <g transform=\"translate(93.914655 201.023491)scale(0.1 -0.1)\">\r\n       <use xlink:href=\"#DejaVuSans-48\"/>\r\n      </g>\r\n     </g>\r\n    </g>\r\n    <g id=\"xtick_14\">\r\n     <g id=\"line2d_26\">\r\n      <g>\r\n       <use style=\"stroke:#000000;stroke-width:0.8;\" x=\"142.192888\" xlink:href=\"#m33e6e2bb3a\" y=\"186.425053\"/>\r\n      </g>\r\n     </g>\r\n     <g id=\"text_26\">\r\n      <!-- 25 -->\r\n      <g transform=\"translate(135.830388 201.023491)scale(0.1 -0.1)\">\r\n       <use xlink:href=\"#DejaVuSans-50\"/>\r\n       <use x=\"63.623047\" xlink:href=\"#DejaVuSans-53\"/>\r\n      </g>\r\n     </g>\r\n    </g>\r\n   </g>\r\n   <g id=\"matplotlib.axis_14\">\r\n    <g id=\"ytick_13\">\r\n     <g id=\"line2d_27\">\r\n      <g>\r\n       <use style=\"stroke:#000000;stroke-width:0.8;\" x=\"96.193966\" xlink:href=\"#m4f36edc684\" y=\"129.602855\"/>\r\n      </g>\r\n     </g>\r\n     <g id=\"text_27\">\r\n      <!-- 0 -->\r\n      <g transform=\"translate(82.831466 133.402074)scale(0.1 -0.1)\">\r\n       <use xlink:href=\"#DejaVuSans-48\"/>\r\n      </g>\r\n     </g>\r\n    </g>\r\n    <g id=\"ytick_14\">\r\n     <g id=\"line2d_28\">\r\n      <g>\r\n       <use style=\"stroke:#000000;stroke-width:0.8;\" x=\"96.193966\" xlink:href=\"#m4f36edc684\" y=\"165.680441\"/>\r\n      </g>\r\n     </g>\r\n     <g id=\"text_28\">\r\n      <!-- 20 -->\r\n      <g transform=\"translate(76.468966 169.47966)scale(0.1 -0.1)\">\r\n       <use xlink:href=\"#DejaVuSans-50\"/>\r\n       <use x=\"63.623047\" xlink:href=\"#DejaVuSans-48\"/>\r\n      </g>\r\n     </g>\r\n    </g>\r\n   </g>\r\n   <g id=\"patch_33\">\r\n    <path d=\"M 96.193966 186.425053 \r\nL 96.193966 128.700915 \r\n\" style=\"fill:none;stroke:#000000;stroke-linecap:square;stroke-linejoin:miter;stroke-width:0.8;\"/>\r\n   </g>\r\n   <g id=\"patch_34\">\r\n    <path d=\"M 153.918103 186.425053 \r\nL 153.918103 128.700915 \r\n\" style=\"fill:none;stroke:#000000;stroke-linecap:square;stroke-linejoin:miter;stroke-width:0.8;\"/>\r\n   </g>\r\n   <g id=\"patch_35\">\r\n    <path d=\"M 96.193966 186.425053 \r\nL 153.918103 186.425053 \r\n\" style=\"fill:none;stroke:#000000;stroke-linecap:square;stroke-linejoin:miter;stroke-width:0.8;\"/>\r\n   </g>\r\n   <g id=\"patch_36\">\r\n    <path d=\"M 96.193966 128.700915 \r\nL 153.918103 128.700915 \r\n\" style=\"fill:none;stroke:#000000;stroke-linecap:square;stroke-linejoin:miter;stroke-width:0.8;\"/>\r\n   </g>\r\n  </g>\r\n  <g id=\"axes_8\">\r\n   <g id=\"patch_37\">\r\n    <path d=\"M 165.462931 186.425053 \r\nL 223.187069 186.425053 \r\nL 223.187069 128.700915 \r\nL 165.462931 128.700915 \r\nz\r\n\" style=\"fill:#ffffff;\"/>\r\n   </g>\r\n   <g clip-path=\"url(#p1561bbaf68)\">\r\n    <image height=\"58\" id=\"image0fc33d57db\" transform=\"scale(1 -1)translate(0 -58)\" width=\"58\" x=\"165.462931\" xlink:href=\"data:image/png;base64,\r\niVBORw0KGgoAAAANSUhEUgAAADoAAAA6CAYAAADhu0ooAAABs0lEQVR4nO1a29qDIAxL/f73f2V2Md32OwpIw2GVXLgTuoQUKFURQUAAABwvbiCvA7B5FQnsmnZhAp8av7CNJtALS6g3LKHesIR6A0eoUK7SFH/mK5SKTLUrSVmMqY3NUVHep9rV/AchYrhjNEaoluRZoDFR5QqtJSPIO2d0daNMJFcENhakYaPuXXIke4xpBfbQtXSUJqjBxtEm1ErofH74+I4caWMyo09BuXYk2Caj8/QfIxYK2pzb1fyuYedoz4xKEBAfj6XkCc4+hdamV1fOGVyZmn/3Quqgt1BSTjkrvh11Knb+0CXhPes6L2Pf0FGvuNu9l2aOEosDFNDHaGw51lesfmsZzVFJfNI8lf0YEJpHQLdZ90pBoYXPjcZo3pOSqgvT2WHraHgddTlMZ7sJHT3zUkK3pudr72TUdtiQ0B2xQTI7miM9OmQPmB3tKcRaQqZwZS74ljpa6pqzRFcUh2gryZ/YjzKcmF4oK9ymF8rCEuoNS6g3LKHecBuhDUoprKSNhSefC46W7CJLn6+xoJTH/8KrAKJ0vXY//gp6PcSU55pwtEcdgPFoaOZ3ASCCB7v0RJTzFWJ3AAAAAElFTkSuQmCC\" y=\"-128.425053\"/>\r\n   </g>\r\n   <g id=\"matplotlib.axis_15\">\r\n    <g id=\"xtick_15\">\r\n     <g id=\"line2d_29\">\r\n      <g>\r\n       <use style=\"stroke:#000000;stroke-width:0.8;\" x=\"166.364871\" xlink:href=\"#m33e6e2bb3a\" y=\"186.425053\"/>\r\n      </g>\r\n     </g>\r\n     <g id=\"text_29\">\r\n      <!-- 0 -->\r\n      <g transform=\"translate(163.183621 201.023491)scale(0.1 -0.1)\">\r\n       <use xlink:href=\"#DejaVuSans-48\"/>\r\n      </g>\r\n     </g>\r\n    </g>\r\n    <g id=\"xtick_16\">\r\n     <g id=\"line2d_30\">\r\n      <g>\r\n       <use style=\"stroke:#000000;stroke-width:0.8;\" x=\"211.461853\" xlink:href=\"#m33e6e2bb3a\" y=\"186.425053\"/>\r\n      </g>\r\n     </g>\r\n     <g id=\"text_30\">\r\n      <!-- 25 -->\r\n      <g transform=\"translate(205.099353 201.023491)scale(0.1 -0.1)\">\r\n       <use xlink:href=\"#DejaVuSans-50\"/>\r\n       <use x=\"63.623047\" xlink:href=\"#DejaVuSans-53\"/>\r\n      </g>\r\n     </g>\r\n    </g>\r\n   </g>\r\n   <g id=\"matplotlib.axis_16\">\r\n    <g id=\"ytick_15\">\r\n     <g id=\"line2d_31\">\r\n      <g>\r\n       <use style=\"stroke:#000000;stroke-width:0.8;\" x=\"165.462931\" xlink:href=\"#m4f36edc684\" y=\"129.602855\"/>\r\n      </g>\r\n     </g>\r\n     <g id=\"text_31\">\r\n      <!-- 0 -->\r\n      <g transform=\"translate(152.100431 133.402074)scale(0.1 -0.1)\">\r\n       <use xlink:href=\"#DejaVuSans-48\"/>\r\n      </g>\r\n     </g>\r\n    </g>\r\n    <g id=\"ytick_16\">\r\n     <g id=\"line2d_32\">\r\n      <g>\r\n       <use style=\"stroke:#000000;stroke-width:0.8;\" x=\"165.462931\" xlink:href=\"#m4f36edc684\" y=\"165.680441\"/>\r\n      </g>\r\n     </g>\r\n     <g id=\"text_32\">\r\n      <!-- 20 -->\r\n      <g transform=\"translate(145.737931 169.47966)scale(0.1 -0.1)\">\r\n       <use xlink:href=\"#DejaVuSans-50\"/>\r\n       <use x=\"63.623047\" xlink:href=\"#DejaVuSans-48\"/>\r\n      </g>\r\n     </g>\r\n    </g>\r\n   </g>\r\n   <g id=\"patch_38\">\r\n    <path d=\"M 165.462931 186.425053 \r\nL 165.462931 128.700915 \r\n\" style=\"fill:none;stroke:#000000;stroke-linecap:square;stroke-linejoin:miter;stroke-width:0.8;\"/>\r\n   </g>\r\n   <g id=\"patch_39\">\r\n    <path d=\"M 223.187069 186.425053 \r\nL 223.187069 128.700915 \r\n\" style=\"fill:none;stroke:#000000;stroke-linecap:square;stroke-linejoin:miter;stroke-width:0.8;\"/>\r\n   </g>\r\n   <g id=\"patch_40\">\r\n    <path d=\"M 165.462931 186.425053 \r\nL 223.187069 186.425053 \r\n\" style=\"fill:none;stroke:#000000;stroke-linecap:square;stroke-linejoin:miter;stroke-width:0.8;\"/>\r\n   </g>\r\n   <g id=\"patch_41\">\r\n    <path d=\"M 165.462931 128.700915 \r\nL 223.187069 128.700915 \r\n\" style=\"fill:none;stroke:#000000;stroke-linecap:square;stroke-linejoin:miter;stroke-width:0.8;\"/>\r\n   </g>\r\n  </g>\r\n  <g id=\"axes_9\">\r\n   <g id=\"patch_42\">\r\n    <path d=\"M 234.731897 186.425053 \r\nL 292.456034 186.425053 \r\nL 292.456034 128.700915 \r\nL 234.731897 128.700915 \r\nz\r\n\" style=\"fill:#ffffff;\"/>\r\n   </g>\r\n   <g clip-path=\"url(#p049f7d9828)\">\r\n    <image height=\"58\" id=\"image3d331fb9c7\" transform=\"scale(1 -1)translate(0 -58)\" width=\"58\" x=\"234.731897\" xlink:href=\"data:image/png;base64,\r\niVBORw0KGgoAAAANSUhEUgAAADoAAAA6CAYAAADhu0ooAAAA0ElEQVR4nO2awQqEMBBDE///n91DUVZapct66CR5N6WHPjKdqSAB7ugYvCoHL0/bzKJ69Pu/ER0vXh/ibt8PolpEVA0bUaKbJcdhrjxi+oY0EFVhao5W56c5qsWXaMULwjw2iQo3o4NWqdvT/VCDlqNJ6e4uogUSfetQLS/6Tqfk+qL/c3ZdDwxEL+NF/M4Ai0QbBqJnM9IvW8Ai0YbB10vDJtGIqhFRNSKqRkTViKgaEVUjompEVI2IqhFRNSKqRkTViKgaEVWCDn+lEAQIfABy3w17o5IrcgAAAABJRU5ErkJggg==\" y=\"-128.425053\"/>\r\n   </g>\r\n   <g id=\"matplotlib.axis_17\">\r\n    <g id=\"xtick_17\">\r\n     <g id=\"line2d_33\">\r\n      <g>\r\n       <use style=\"stroke:#000000;stroke-width:0.8;\" x=\"235.633836\" xlink:href=\"#m33e6e2bb3a\" y=\"186.425053\"/>\r\n      </g>\r\n     </g>\r\n     <g id=\"text_33\">\r\n      <!-- 0 -->\r\n      <g transform=\"translate(232.452586 201.023491)scale(0.1 -0.1)\">\r\n       <use xlink:href=\"#DejaVuSans-48\"/>\r\n      </g>\r\n     </g>\r\n    </g>\r\n    <g id=\"xtick_18\">\r\n     <g id=\"line2d_34\">\r\n      <g>\r\n       <use style=\"stroke:#000000;stroke-width:0.8;\" x=\"280.730819\" xlink:href=\"#m33e6e2bb3a\" y=\"186.425053\"/>\r\n      </g>\r\n     </g>\r\n     <g id=\"text_34\">\r\n      <!-- 25 -->\r\n      <g transform=\"translate(274.368319 201.023491)scale(0.1 -0.1)\">\r\n       <use xlink:href=\"#DejaVuSans-50\"/>\r\n       <use x=\"63.623047\" xlink:href=\"#DejaVuSans-53\"/>\r\n      </g>\r\n     </g>\r\n    </g>\r\n   </g>\r\n   <g id=\"matplotlib.axis_18\">\r\n    <g id=\"ytick_17\">\r\n     <g id=\"line2d_35\">\r\n      <g>\r\n       <use style=\"stroke:#000000;stroke-width:0.8;\" x=\"234.731897\" xlink:href=\"#m4f36edc684\" y=\"129.602855\"/>\r\n      </g>\r\n     </g>\r\n     <g id=\"text_35\">\r\n      <!-- 0 -->\r\n      <g transform=\"translate(221.369397 133.402074)scale(0.1 -0.1)\">\r\n       <use xlink:href=\"#DejaVuSans-48\"/>\r\n      </g>\r\n     </g>\r\n    </g>\r\n    <g id=\"ytick_18\">\r\n     <g id=\"line2d_36\">\r\n      <g>\r\n       <use style=\"stroke:#000000;stroke-width:0.8;\" x=\"234.731897\" xlink:href=\"#m4f36edc684\" y=\"165.680441\"/>\r\n      </g>\r\n     </g>\r\n     <g id=\"text_36\">\r\n      <!-- 20 -->\r\n      <g transform=\"translate(215.006897 169.47966)scale(0.1 -0.1)\">\r\n       <use xlink:href=\"#DejaVuSans-50\"/>\r\n       <use x=\"63.623047\" xlink:href=\"#DejaVuSans-48\"/>\r\n      </g>\r\n     </g>\r\n    </g>\r\n   </g>\r\n   <g id=\"patch_43\">\r\n    <path d=\"M 234.731897 186.425053 \r\nL 234.731897 128.700915 \r\n\" style=\"fill:none;stroke:#000000;stroke-linecap:square;stroke-linejoin:miter;stroke-width:0.8;\"/>\r\n   </g>\r\n   <g id=\"patch_44\">\r\n    <path d=\"M 292.456034 186.425053 \r\nL 292.456034 128.700915 \r\n\" style=\"fill:none;stroke:#000000;stroke-linecap:square;stroke-linejoin:miter;stroke-width:0.8;\"/>\r\n   </g>\r\n   <g id=\"patch_45\">\r\n    <path d=\"M 234.731897 186.425053 \r\nL 292.456034 186.425053 \r\n\" style=\"fill:none;stroke:#000000;stroke-linecap:square;stroke-linejoin:miter;stroke-width:0.8;\"/>\r\n   </g>\r\n   <g id=\"patch_46\">\r\n    <path d=\"M 234.731897 128.700915 \r\nL 292.456034 128.700915 \r\n\" style=\"fill:none;stroke:#000000;stroke-linecap:square;stroke-linejoin:miter;stroke-width:0.8;\"/>\r\n   </g>\r\n  </g>\r\n  <g id=\"axes_10\">\r\n   <g id=\"patch_47\">\r\n    <path d=\"M 304.000862 186.425053 \r\nL 361.725 186.425053 \r\nL 361.725 128.700915 \r\nL 304.000862 128.700915 \r\nz\r\n\" style=\"fill:#ffffff;\"/>\r\n   </g>\r\n   <g clip-path=\"url(#pae44c5bf4c)\">\r\n    <image height=\"58\" id=\"image01425ef221\" transform=\"scale(1 -1)translate(0 -58)\" width=\"58\" x=\"304.000862\" xlink:href=\"data:image/png;base64,\r\niVBORw0KGgoAAAANSUhEUgAAADoAAAA6CAYAAADhu0ooAAABH0lEQVR4nO2b0Q7CIAwAW7L//2V8MEScLUOyodx6r0rtWUBWoibVnCWLZHFpvOSi1TgdGO997miszQo3ItaKcUa8Vqwe+S3vRp+Z1Cy8nOsvIPUMIJCO37IudeHS6OJegc+pC7TdKz1FYYvTqluCObokWjU9kLuuVbttehaT2MsiK2qBFjWPgNQ9qciiK1pQKU8vYIrfLSoqEqI8kAcG81A/PYsfEaI07iu6YldF5ZV3nf9bc2xeOtfQW5jlf168Iyz+ebTVtaef60UEWFGPEKURojRClEaI0ghRGiFKI0RphCiNEKURojTuLlo3+RkYoizBgoroQQN7lf52u0Addy/e/dQ/cTwL/2Qzun65fHmbZv1tp6fKPSL7mXPuTHoApn0mgPdBqdgAAAAASUVORK5CYII=\" y=\"-128.425053\"/>\r\n   </g>\r\n   <g id=\"matplotlib.axis_19\">\r\n    <g id=\"xtick_19\">\r\n     <g id=\"line2d_37\">\r\n      <g>\r\n       <use style=\"stroke:#000000;stroke-width:0.8;\" x=\"304.902802\" xlink:href=\"#m33e6e2bb3a\" y=\"186.425053\"/>\r\n      </g>\r\n     </g>\r\n     <g id=\"text_37\">\r\n      <!-- 0 -->\r\n      <g transform=\"translate(301.721552 201.023491)scale(0.1 -0.1)\">\r\n       <use xlink:href=\"#DejaVuSans-48\"/>\r\n      </g>\r\n     </g>\r\n    </g>\r\n    <g id=\"xtick_20\">\r\n     <g id=\"line2d_38\">\r\n      <g>\r\n       <use style=\"stroke:#000000;stroke-width:0.8;\" x=\"349.999784\" xlink:href=\"#m33e6e2bb3a\" y=\"186.425053\"/>\r\n      </g>\r\n     </g>\r\n     <g id=\"text_38\">\r\n      <!-- 25 -->\r\n      <g transform=\"translate(343.637284 201.023491)scale(0.1 -0.1)\">\r\n       <use xlink:href=\"#DejaVuSans-50\"/>\r\n       <use x=\"63.623047\" xlink:href=\"#DejaVuSans-53\"/>\r\n      </g>\r\n     </g>\r\n    </g>\r\n   </g>\r\n   <g id=\"matplotlib.axis_20\">\r\n    <g id=\"ytick_19\">\r\n     <g id=\"line2d_39\">\r\n      <g>\r\n       <use style=\"stroke:#000000;stroke-width:0.8;\" x=\"304.000862\" xlink:href=\"#m4f36edc684\" y=\"129.602855\"/>\r\n      </g>\r\n     </g>\r\n     <g id=\"text_39\">\r\n      <!-- 0 -->\r\n      <g transform=\"translate(290.638362 133.402074)scale(0.1 -0.1)\">\r\n       <use xlink:href=\"#DejaVuSans-48\"/>\r\n      </g>\r\n     </g>\r\n    </g>\r\n    <g id=\"ytick_20\">\r\n     <g id=\"line2d_40\">\r\n      <g>\r\n       <use style=\"stroke:#000000;stroke-width:0.8;\" x=\"304.000862\" xlink:href=\"#m4f36edc684\" y=\"165.680441\"/>\r\n      </g>\r\n     </g>\r\n     <g id=\"text_40\">\r\n      <!-- 20 -->\r\n      <g transform=\"translate(284.275862 169.47966)scale(0.1 -0.1)\">\r\n       <use xlink:href=\"#DejaVuSans-50\"/>\r\n       <use x=\"63.623047\" xlink:href=\"#DejaVuSans-48\"/>\r\n      </g>\r\n     </g>\r\n    </g>\r\n   </g>\r\n   <g id=\"patch_48\">\r\n    <path d=\"M 304.000862 186.425053 \r\nL 304.000862 128.700915 \r\n\" style=\"fill:none;stroke:#000000;stroke-linecap:square;stroke-linejoin:miter;stroke-width:0.8;\"/>\r\n   </g>\r\n   <g id=\"patch_49\">\r\n    <path d=\"M 361.725 186.425053 \r\nL 361.725 128.700915 \r\n\" style=\"fill:none;stroke:#000000;stroke-linecap:square;stroke-linejoin:miter;stroke-width:0.8;\"/>\r\n   </g>\r\n   <g id=\"patch_50\">\r\n    <path d=\"M 304.000862 186.425053 \r\nL 361.725 186.425053 \r\n\" style=\"fill:none;stroke:#000000;stroke-linecap:square;stroke-linejoin:miter;stroke-width:0.8;\"/>\r\n   </g>\r\n   <g id=\"patch_51\">\r\n    <path d=\"M 304.000862 128.700915 \r\nL 361.725 128.700915 \r\n\" style=\"fill:none;stroke:#000000;stroke-linecap:square;stroke-linejoin:miter;stroke-width:0.8;\"/>\r\n   </g>\r\n  </g>\r\n </g>\r\n <defs>\r\n  <clipPath id=\"pe0bced471d\">\r\n   <rect height=\"57.724138\" width=\"57.724138\" x=\"26.925\" y=\"10.097279\"/>\r\n  </clipPath>\r\n  <clipPath id=\"p517c46d54e\">\r\n   <rect height=\"57.724138\" width=\"57.724138\" x=\"96.193966\" y=\"10.097279\"/>\r\n  </clipPath>\r\n  <clipPath id=\"pd2e98e1ae0\">\r\n   <rect height=\"57.724138\" width=\"57.724138\" x=\"165.462931\" y=\"10.097279\"/>\r\n  </clipPath>\r\n  <clipPath id=\"p75113a0134\">\r\n   <rect height=\"57.724138\" width=\"57.724138\" x=\"234.731897\" y=\"10.097279\"/>\r\n  </clipPath>\r\n  <clipPath id=\"pab6a9798e5\">\r\n   <rect height=\"57.724138\" width=\"57.724138\" x=\"304.000862\" y=\"10.097279\"/>\r\n  </clipPath>\r\n  <clipPath id=\"p79951cafa1\">\r\n   <rect height=\"57.724138\" width=\"57.724138\" x=\"26.925\" y=\"128.700915\"/>\r\n  </clipPath>\r\n  <clipPath id=\"p1ec4876ec0\">\r\n   <rect height=\"57.724138\" width=\"57.724138\" x=\"96.193966\" y=\"128.700915\"/>\r\n  </clipPath>\r\n  <clipPath id=\"p1561bbaf68\">\r\n   <rect height=\"57.724138\" width=\"57.724138\" x=\"165.462931\" y=\"128.700915\"/>\r\n  </clipPath>\r\n  <clipPath id=\"p049f7d9828\">\r\n   <rect height=\"57.724138\" width=\"57.724138\" x=\"234.731897\" y=\"128.700915\"/>\r\n  </clipPath>\r\n  <clipPath id=\"pae44c5bf4c\">\r\n   <rect height=\"57.724138\" width=\"57.724138\" x=\"304.000862\" y=\"128.700915\"/>\r\n  </clipPath>\r\n </defs>\r\n</svg>\r\n",
      "image/png": "[encoded data removed]"
     },
     "metadata": {
      "needs_background": "light"
     }
    }
   ],
   "source": [
    "# Printing accuracies and displaying w as images\n",
    "f,ax=plt.subplots(2,5)\n",
    "\n",
    "for i in range(5):\n",
    "    im=w1[:,i].reshape(32,32,3)\n",
    "    ax[0,i].imshow(im)\n",
    "for i in range(5,10):\n",
    "    im=w1[:,i].reshape(32,32,3)\n",
    "    ax[1,i-5].imshow(im)\n",
    "\n",
    "plt.show()\n",
    "\n",
    "\n"
   ]
  },
  {
   "cell_type": "code",
   "execution_count": null,
   "metadata": {},
   "outputs": [],
   "source": [
    "import cv2 as cv\n",
    "images=[]\n",
    "for i in range(w1.shape[1]):\n",
    "    #images.append(np.reshape(w1[:,i]*255,(32,32,3))+np.reshape(mean_image,(32,32,3)))\n",
    "    temp=np.reshape(w1[:,i]*255,(32,32,3))\n",
    "    temp=cv.normalize(temp, None, 0, 255, cv.NORM_MINMAX, cv.CV_8U)\n",
    "    images.append(temp)\n",
    "fig,ax=plt.subplots(2,5,figsize=(30,10))\n",
    "for i in range(2):\n",
    "    for j in range(5):\n",
    "        ax[i,j].imshow(images[i*5+j],vmin=0,vmax=255)\n",
    "plt.show()"
   ]
  },
  {
   "cell_type": "code",
   "execution_count": null,
   "metadata": {},
   "outputs": [],
   "source": [
    "train_acc = 1.0 - 1/batch_size*(np.abs(np.argmax(y,axis=1) - np.argmax(y_pred,axis=1))).sum()\n",
    "train_acc_history.append(train_acc)\n",
    "#test_acc = 1.0 - 1/Nte*(np.abs(np.argmax(y_test,axis=1) - np.argmax(y_pred,axis=1))).sum()\n"
   ]
  }
 ]
}