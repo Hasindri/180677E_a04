{
 "metadata": {
  "language_info": {
   "codemirror_mode": {
    "name": "ipython",
    "version": 3
   },
   "file_extension": ".py",
   "mimetype": "text/x-python",
   "name": "python",
   "nbconvert_exporter": "python",
   "pygments_lexer": "ipython3",
   "version": "3.7.9-final"
  },
  "orig_nbformat": 2,
  "kernelspec": {
   "name": "python3",
   "display_name": "Python 3",
   "language": "python"
  }
 },
 "nbformat": 4,
 "nbformat_minor": 2,
 "cells": [
  {
   "cell_type": "code",
   "execution_count": 1,
   "metadata": {},
   "outputs": [],
   "source": [
    "%matplotlib inline\n",
    "import tensorflow as tf\n",
    "from tensorflow import keras\n",
    "import numpy as np\n",
    "import matplotlib.pyplot as plt\n"
   ]
  },
  {
   "cell_type": "code",
   "execution_count": 2,
   "metadata": {},
   "outputs": [],
   "source": [
    "(x_train, y_train), (x_test, y_test) = keras.datasets.cifar10.load_data()"
   ]
  },
  {
   "cell_type": "code",
   "execution_count": 3,
   "metadata": {},
   "outputs": [
    {
     "output_type": "stream",
     "name": "stdout",
     "text": [
      "x_train:  (50000, 32, 32, 3)\ny_train:  (50000, 1)\n"
     ]
    }
   ],
   "source": [
    "print('x_train: ', x_train.shape)\n",
    "print('y_train: ', y_train.shape)"
   ]
  },
  {
   "cell_type": "code",
   "execution_count": 4,
   "metadata": {},
   "outputs": [
    {
     "output_type": "stream",
     "name": "stdout",
     "text": [
      "Noof classes: 10\nNoof training images: 50000\nNoof test images: 10000\nNoof features: 3072\n"
     ]
    }
   ],
   "source": [
    "K = len(np.unique(y_train)) # Classes\n",
    "Ntr = x_train.shape[0]\n",
    "Nte = x_test.shape[0]\n",
    "Din = 3072 # CIFAR10\n",
    "print('Noof classes:',K)\n",
    "print('Noof training images:',Ntr)\n",
    "print('Noof test images:',Nte)\n",
    "print('Noof features:',Din)\n",
    "# Normalize pixel values\n",
    "x_train, x_test = x_train / 255.0, x_test / 255.0\n",
    "mean_image = np.mean(x_train, axis=0)\n",
    "x_train = x_train - mean_image\n",
    "x_test = x_test - mean_image"
   ]
  },
  {
   "cell_type": "code",
   "execution_count": 5,
   "metadata": {},
   "outputs": [
    {
     "output_type": "stream",
     "name": "stdout",
     "text": [
      "original labels: (50000, 1)\nlabels in class matrix: (50000, 10)\n"
     ]
    }
   ],
   "source": [
    "print('original labels:',y_train.shape)\n",
    "y_train = tf.keras.utils.to_categorical(y_train, num_classes=K)\n",
    "print('labels in class matrix:',y_train.shape)\n",
    "y_test = tf.keras.utils.to_categorical(y_test, num_classes=K)"
   ]
  },
  {
   "cell_type": "code",
   "execution_count": 6,
   "metadata": {},
   "outputs": [
    {
     "output_type": "stream",
     "name": "stdout",
     "text": [
      "x_train: (50000, 3072)\nx_test: (10000, 3072)\n"
     ]
    }
   ],
   "source": [
    "x_train = np.reshape(x_train,(Ntr,Din))\n",
    "x_test = np.reshape(x_test,(Nte,Din))\n",
    "print('x_train:', x_train.shape)\n",
    "print('x_test:', x_test.shape)\n",
    "x_train = x_train.astype('float32')\n",
    "x_test = x_test.astype('float32')"
   ]
  },
  {
   "cell_type": "code",
   "execution_count": 7,
   "metadata": {},
   "outputs": [
    {
     "output_type": "stream",
     "name": "stdout",
     "text": [
      "w1: (3072, 10)\nb1: (10,)\nw1: [[-7.70398178e-06 -4.98834216e-07  5.43238390e-06 ...  8.26696009e-07\n  -8.75256121e-07  7.53961550e-06]\n [-5.99022584e-06 -8.26150179e-06  6.80077966e-06 ...  7.79061661e-06\n  -4.48978642e-06  1.06303332e-05]\n [ 1.15817529e-05  5.16743124e-06  1.40895243e-05 ... -7.53720799e-07\n  -3.40643158e-06  8.63682046e-06]\n ...\n [-8.75218596e-06 -3.19546500e-06  1.18564392e-05 ...  2.55549430e-05\n   1.45175422e-05 -2.33247087e-05]\n [-1.02113018e-05 -1.11160306e-05 -3.55352026e-07 ...  7.83665911e-06\n  -9.96019505e-06 -6.95968344e-06]\n [ 4.47098074e-06 -2.06577823e-06 -1.84518368e-05 ... -8.21667145e-06\n   1.12937018e-05  2.17903812e-06]]\n"
     ]
    }
   ],
   "source": [
    "std=1e-5\n",
    "w1 = std*np.random.randn(Din, K)\n",
    "b1 = np.zeros(K)\n",
    "print(\"w1:\", w1.shape)\n",
    "print(\"b1:\", b1.shape)\n",
    "print('w1:',w1)"
   ]
  },
  {
   "cell_type": "code",
   "execution_count": 8,
   "metadata": {},
   "outputs": [
    {
     "output_type": "stream",
     "name": "stdout",
     "text": [
      "iteration 0 / 300 : loss 1.00002213\n",
      "iteration 10 / 300 : loss 0.87664035\n",
      "iteration 20 / 300 : loss 0.84254261\n",
      "iteration 30 / 300 : loss 0.82361812\n",
      "iteration 40 / 300 : loss 0.81239045\n",
      "iteration 50 / 300 : loss 0.80542749\n",
      "iteration 60 / 300 : loss 0.80090695\n",
      "iteration 70 / 300 : loss 0.79782253\n",
      "iteration 80 / 300 : loss 0.79560615\n",
      "iteration 90 / 300 : loss 0.79393111\n",
      "iteration 100 / 300 : loss 0.79260587\n",
      "iteration 110 / 300 : loss 0.79151578\n",
      "iteration 120 / 300 : loss 0.79059059\n",
      "iteration 130 / 300 : loss 0.78978600\n",
      "iteration 140 / 300 : loss 0.78907324\n",
      "iteration 150 / 300 : loss 0.78843295\n",
      "iteration 160 / 300 : loss 0.78785161\n",
      "iteration 170 / 300 : loss 0.78731944\n",
      "iteration 180 / 300 : loss 0.78682909\n",
      "iteration 190 / 300 : loss 0.78637489\n",
      "iteration 200 / 300 : loss 0.78595231\n",
      "iteration 210 / 300 : loss 0.78555765\n",
      "iteration 220 / 300 : loss 0.78518786\n",
      "iteration 230 / 300 : loss 0.78484033\n",
      "iteration 240 / 300 : loss 0.78451286\n",
      "iteration 250 / 300 : loss 0.78420355\n",
      "iteration 260 / 300 : loss 0.78391073\n",
      "iteration 270 / 300 : loss 0.78363296\n",
      "iteration 280 / 300 : loss 0.78336895\n",
      "iteration 290 / 300 : loss 0.78311758\n"
     ]
    }
   ],
   "source": [
    "batch_size = Ntr\n",
    "iterations = 300\n",
    "lr = 1.4e-2\n",
    "lr_decay=0.999\n",
    "reg =5e-6\n",
    "loss_history = []\n",
    "train_acc_history = []\n",
    "val_acc_history = []\n",
    "seed = 0\n",
    "rng = np.random.default_rng(seed=seed)\n",
    "for t in range(iterations):\n",
    "    indices = np.arange(Ntr)\n",
    "    rng.shuffle(indices)\n",
    "    x=x_train[indices]\n",
    "    y=y_train[indices]\n",
    "\n",
    "    # Forward pass\n",
    "    y_pred=x.dot(w1) + b1\n",
    "    #classes=np.argmax(prediction,axis=1)\n",
    "    #prediction=y_pred(classes)\n",
    "    #classes=np.reshape(classes,(Ntr,1))\n",
    "    #classes=tf.keras.utils.to_categorical(classes, num_classes=K)\n",
    "    \n",
    "    loss=1./batch_size*(np.square(y_pred-y)).sum() + reg * np.sum(w1*w1)\n",
    "    loss_history.append(loss)\n",
    "\n",
    "    if t%10==0:\n",
    "        print('iteration %d / %d : loss %0.8f' % (t,iterations,loss))\n",
    "        \n",
    "    # Backward pass\n",
    "\n",
    "    dy_pred=1./batch_size*2.0*(y_pred-y)\n",
    "    dw1=x.T.dot(dy_pred) + reg * w1\n",
    "    db1=dy_pred.sum(axis=0)\n",
    "    #db1=np.reshape(db1,(K))\n",
    "    w1 -= lr*dw1\n",
    "    b1 -= lr*db1\n",
    "    lr *= lr_decay\n",
    "\n",
    "\n",
    "\n",
    "\n"
   ]
  },
  {
   "cell_type": "code",
   "execution_count": null,
   "metadata": {},
   "outputs": [],
   "source": [
    "# Printing accuracies and displaying w as images\n",
    "f,ax=plt.subplots(2,5)\n",
    "\n",
    "for i in range(5):\n",
    "    im=w1[:,i].reshape(32,32,3)\n",
    "    ax[1,i].imshow(im)\n",
    "for i in range(5,10):\n",
    "    im=w1[:,i].reshape(32,32,3)\n",
    "    ax[2,i].imshow(im)\n",
    "\n",
    "plt.show()\n",
    "\n",
    "\n"
   ]
  },
  {
   "cell_type": "code",
   "execution_count": null,
   "metadata": {},
   "outputs": [],
   "source": [
    "train_acc = 1.0 - 1/batch_size*(np.abs(np.argmax(y,axis=1) - np.argmax(y_pred,axis=1))).sum()\n",
    "train_acc_history.append(train_acc)\n",
    "#test_acc = 1.0 - 1/Nte*(np.abs(np.argmax(y_test,axis=1) - np.argmax(y_pred,axis=1))).sum()\n"
   ]
  }
 ]
}